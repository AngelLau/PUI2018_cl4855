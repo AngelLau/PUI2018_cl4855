{
 "cells": [
  {
   "cell_type": "code",
   "execution_count": 185,
   "metadata": {},
   "outputs": [
    {
     "name": "stdout",
     "output_type": "stream",
     "text": [
      "Populating the interactive namespace from numpy and matplotlib\n"
     ]
    }
   ],
   "source": [
    "import geopandas as gpd\n",
    "import pandas as pd\n",
    "import numpy as np\n",
    "import urllib\n",
    "import requests\n",
    "import os\n",
    "import io\n",
    "import json\n",
    "import pylab as pl\n",
    "import shapely\n",
    "from scipy.spatial.distance import cdist\n",
    "from fiona.crs import from_epsg\n",
    "import geopandas as gpd\n",
    "import statsmodels.formula.api as smf\n",
    "from sklearn.cluster import KMeans\n",
    "import json\n",
    "%pylab inline"
   ]
  },
  {
   "cell_type": "code",
   "execution_count": 98,
   "metadata": {},
   "outputs": [],
   "source": [
    "gs=gpd.GeoDataFrame.from_file(\"/nfshome\"+\"/cl4855\"+\"/ADS\"+\"/How-greenspace-makes-the-green\"+\"/Green Spaces\"+\"/geo_export_082cf1b6-52ed-40bb-9b52-13945bdb1f98.shp\")"
   ]
  },
  {
   "cell_type": "code",
   "execution_count": 99,
   "metadata": {},
   "outputs": [
    {
     "data": {
      "text/html": [
       "<div>\n",
       "<style scoped>\n",
       "    .dataframe tbody tr th:only-of-type {\n",
       "        vertical-align: middle;\n",
       "    }\n",
       "\n",
       "    .dataframe tbody tr th {\n",
       "        vertical-align: top;\n",
       "    }\n",
       "\n",
       "    .dataframe thead th {\n",
       "        text-align: right;\n",
       "    }\n",
       "</style>\n",
       "<table border=\"1\" class=\"dataframe\">\n",
       "  <thead>\n",
       "    <tr style=\"text-align: right;\">\n",
       "      <th></th>\n",
       "      <th>feat_code</th>\n",
       "      <th>landuse</th>\n",
       "      <th>park_name</th>\n",
       "      <th>parknum</th>\n",
       "      <th>shape_area</th>\n",
       "      <th>shape_leng</th>\n",
       "      <th>source_id</th>\n",
       "      <th>status</th>\n",
       "      <th>sub_code</th>\n",
       "      <th>system</th>\n",
       "      <th>geometry</th>\n",
       "    </tr>\n",
       "  </thead>\n",
       "  <tbody>\n",
       "    <tr>\n",
       "      <th>0</th>\n",
       "      <td>4910.0</td>\n",
       "      <td>Community Park</td>\n",
       "      <td>Commodore Barry Park</td>\n",
       "      <td>B021</td>\n",
       "      <td>41539.801363</td>\n",
       "      <td>829.420107</td>\n",
       "      <td>2.149100e+10</td>\n",
       "      <td>Updated</td>\n",
       "      <td>491050.0</td>\n",
       "      <td>None</td>\n",
       "      <td>POLYGON ((-73.97922375065221 40.69799879369959...</td>\n",
       "    </tr>\n",
       "    <tr>\n",
       "      <th>1</th>\n",
       "      <td>4980.0</td>\n",
       "      <td>Neighborhood Park</td>\n",
       "      <td>Pierrepont Playground</td>\n",
       "      <td>B222</td>\n",
       "      <td>21960.494920</td>\n",
       "      <td>607.555193</td>\n",
       "      <td>2.149800e+10</td>\n",
       "      <td>Unchanged</td>\n",
       "      <td>498000.0</td>\n",
       "      <td>None</td>\n",
       "      <td>POLYGON ((-73.99732028095745 40.69600764072165...</td>\n",
       "    </tr>\n",
       "    <tr>\n",
       "      <th>2</th>\n",
       "      <td>4980.0</td>\n",
       "      <td>Neighborhood Park</td>\n",
       "      <td>Cobble Hill Park</td>\n",
       "      <td>B326</td>\n",
       "      <td>28079.076265</td>\n",
       "      <td>784.421990</td>\n",
       "      <td>2.149800e+10</td>\n",
       "      <td>Unchanged</td>\n",
       "      <td>498000.0</td>\n",
       "      <td>None</td>\n",
       "      <td>POLYGON ((-73.99557419919979 40.68792918280799...</td>\n",
       "    </tr>\n",
       "    <tr>\n",
       "      <th>3</th>\n",
       "      <td>4980.0</td>\n",
       "      <td>Community Park</td>\n",
       "      <td>Commodore Barry Park</td>\n",
       "      <td>B021</td>\n",
       "      <td>438416.114511</td>\n",
       "      <td>2672.710150</td>\n",
       "      <td>2.149800e+10</td>\n",
       "      <td>Unchanged</td>\n",
       "      <td>498000.0</td>\n",
       "      <td>None</td>\n",
       "      <td>POLYGON ((-73.97746661925957 40.69650941986475...</td>\n",
       "    </tr>\n",
       "    <tr>\n",
       "      <th>4</th>\n",
       "      <td>4980.0</td>\n",
       "      <td>Triangle/Plaza</td>\n",
       "      <td>Brooklyn Heights Promenade</td>\n",
       "      <td>B223DG</td>\n",
       "      <td>14465.699799</td>\n",
       "      <td>1376.106398</td>\n",
       "      <td>2.149800e+10</td>\n",
       "      <td>Unchanged</td>\n",
       "      <td>498000.0</td>\n",
       "      <td>None</td>\n",
       "      <td>POLYGON ((-73.99746719287955 40.69692380834881...</td>\n",
       "    </tr>\n",
       "  </tbody>\n",
       "</table>\n",
       "</div>"
      ],
      "text/plain": [
       "   feat_code            landuse                   park_name parknum  \\\n",
       "0     4910.0     Community Park        Commodore Barry Park    B021   \n",
       "1     4980.0  Neighborhood Park       Pierrepont Playground    B222   \n",
       "2     4980.0  Neighborhood Park            Cobble Hill Park    B326   \n",
       "3     4980.0     Community Park        Commodore Barry Park    B021   \n",
       "4     4980.0     Triangle/Plaza  Brooklyn Heights Promenade  B223DG   \n",
       "\n",
       "      shape_area   shape_leng     source_id     status  sub_code system  \\\n",
       "0   41539.801363   829.420107  2.149100e+10    Updated  491050.0   None   \n",
       "1   21960.494920   607.555193  2.149800e+10  Unchanged  498000.0   None   \n",
       "2   28079.076265   784.421990  2.149800e+10  Unchanged  498000.0   None   \n",
       "3  438416.114511  2672.710150  2.149800e+10  Unchanged  498000.0   None   \n",
       "4   14465.699799  1376.106398  2.149800e+10  Unchanged  498000.0   None   \n",
       "\n",
       "                                            geometry  \n",
       "0  POLYGON ((-73.97922375065221 40.69799879369959...  \n",
       "1  POLYGON ((-73.99732028095745 40.69600764072165...  \n",
       "2  POLYGON ((-73.99557419919979 40.68792918280799...  \n",
       "3  POLYGON ((-73.97746661925957 40.69650941986475...  \n",
       "4  POLYGON ((-73.99746719287955 40.69692380834881...  "
      ]
     },
     "execution_count": 99,
     "metadata": {},
     "output_type": "execute_result"
    }
   ],
   "source": [
    "gs.head()"
   ]
  },
  {
   "cell_type": "code",
   "execution_count": 100,
   "metadata": {},
   "outputs": [],
   "source": [
    "green=gs[['park_name','geometry']]"
   ]
  },
  {
   "cell_type": "code",
   "execution_count": 101,
   "metadata": {},
   "outputs": [],
   "source": [
    "green=green.dissolve(by='park_name')"
   ]
  },
  {
   "cell_type": "code",
   "execution_count": 102,
   "metadata": {},
   "outputs": [],
   "source": [
    "dog=pd.read_json('DPR_DogRuns_001.json')\n",
    "bbq=pd.read_json('DPR_Barbecue_001.json')\n",
    "basket=pd.read_json('DPR_Basketball_001.json')\n",
    "eat=pd.read_json('DPR_Eateries_001.json')\n",
    "plg=pd.read_json('DPR_Playgrounds_001.json')\n",
    "ten=pd.read_json('DPR_Tennis_001.json')\n",
    "skt=pd.read_json('DPR_IceSkating_001.json')"
   ]
  },
  {
   "cell_type": "code",
   "execution_count": 103,
   "metadata": {},
   "outputs": [],
   "source": [
    "ten['facility']='Tennis'\n",
    "bbq['facility']='Barbecue'\n",
    "dog['facility']='Dogfriend'\n",
    "basket['facility']='Basketball'\n",
    "eat['facility']='Eateries'\n",
    "plg['facility']='Playground'\n",
    "skt['facility']='skate'"
   ]
  },
  {
   "cell_type": "code",
   "execution_count": 104,
   "metadata": {},
   "outputs": [],
   "source": [
    "bbq=bbq[['Prop_ID','facility']]\n",
    "ten=ten[['Prop_ID','facility']]\n",
    "dog=dog[['Prop_ID','facility']]\n",
    "basket=basket[['Prop_ID','facility']]\n",
    "eat=eat[['park_id','facility']]\n",
    "plg=plg[['Prop_ID','facility']]\n",
    "skt=skt[['Prop_ID','facility']]"
   ]
  },
  {
   "cell_type": "code",
   "execution_count": 105,
   "metadata": {},
   "outputs": [],
   "source": [
    "eat=pd.DataFrame(eat)"
   ]
  },
  {
   "cell_type": "code",
   "execution_count": 106,
   "metadata": {},
   "outputs": [],
   "source": [
    "eat.rename(columns={'park_id':'Prop_ID'},inplace=True)"
   ]
  },
  {
   "cell_type": "code",
   "execution_count": 107,
   "metadata": {},
   "outputs": [],
   "source": [
    "facility=pd.concat([bbq,ten,dog,basket,eat,plg,skt])"
   ]
  },
  {
   "cell_type": "code",
   "execution_count": 108,
   "metadata": {},
   "outputs": [],
   "source": [
    "df=pd.DataFrame(facility.groupby(['Prop_ID','facility']).size().reset_index())"
   ]
  },
  {
   "cell_type": "code",
   "execution_count": 109,
   "metadata": {},
   "outputs": [],
   "source": [
    "facility=pd.pivot_table(df,index='Prop_ID',columns='facility',values=0,fill_value=0)"
   ]
  },
  {
   "cell_type": "code",
   "execution_count": 110,
   "metadata": {},
   "outputs": [],
   "source": [
    "facility=facility.reset_index()"
   ]
  },
  {
   "cell_type": "code",
   "execution_count": 111,
   "metadata": {},
   "outputs": [],
   "source": [
    "facility=facility.iloc[1:]"
   ]
  },
  {
   "cell_type": "code",
   "execution_count": 112,
   "metadata": {},
   "outputs": [],
   "source": [
    "greenspace=gpd.GeoDataFrame(gs[['parknum','geometry']])\n",
    "greenspace = greenspace.dissolve(by='parknum')\n",
    "greenspace=greenspace.reset_index()\n",
    "facilitygs=facility.merge(greenspace,left_on='Prop_ID',right_on=\"parknum\")"
   ]
  },
  {
   "cell_type": "code",
   "execution_count": 113,
   "metadata": {},
   "outputs": [
    {
     "data": {
      "text/html": [
       "<div>\n",
       "<style scoped>\n",
       "    .dataframe tbody tr th:only-of-type {\n",
       "        vertical-align: middle;\n",
       "    }\n",
       "\n",
       "    .dataframe tbody tr th {\n",
       "        vertical-align: top;\n",
       "    }\n",
       "\n",
       "    .dataframe thead th {\n",
       "        text-align: right;\n",
       "    }\n",
       "</style>\n",
       "<table border=\"1\" class=\"dataframe\">\n",
       "  <thead>\n",
       "    <tr style=\"text-align: right;\">\n",
       "      <th></th>\n",
       "      <th>Prop_ID</th>\n",
       "      <th>Barbecue</th>\n",
       "      <th>Basketball</th>\n",
       "      <th>Dogfriend</th>\n",
       "      <th>Eateries</th>\n",
       "      <th>Playground</th>\n",
       "      <th>Tennis</th>\n",
       "      <th>skate</th>\n",
       "      <th>parknum</th>\n",
       "      <th>geometry</th>\n",
       "    </tr>\n",
       "  </thead>\n",
       "  <tbody>\n",
       "    <tr>\n",
       "      <th>0</th>\n",
       "      <td>B001</td>\n",
       "      <td>0</td>\n",
       "      <td>1</td>\n",
       "      <td>0</td>\n",
       "      <td>0</td>\n",
       "      <td>1</td>\n",
       "      <td>0</td>\n",
       "      <td>0</td>\n",
       "      <td>B001</td>\n",
       "      <td>POLYGON ((-73.95819910692008 40.72846909429816...</td>\n",
       "    </tr>\n",
       "    <tr>\n",
       "      <th>1</th>\n",
       "      <td>B007</td>\n",
       "      <td>0</td>\n",
       "      <td>1</td>\n",
       "      <td>0</td>\n",
       "      <td>0</td>\n",
       "      <td>1</td>\n",
       "      <td>1</td>\n",
       "      <td>0</td>\n",
       "      <td>B007</td>\n",
       "      <td>(POLYGON ((-74.00191712205063 40.5944044883299...</td>\n",
       "    </tr>\n",
       "    <tr>\n",
       "      <th>2</th>\n",
       "      <td>B008</td>\n",
       "      <td>0</td>\n",
       "      <td>1</td>\n",
       "      <td>0</td>\n",
       "      <td>0</td>\n",
       "      <td>1</td>\n",
       "      <td>0</td>\n",
       "      <td>0</td>\n",
       "      <td>B008</td>\n",
       "      <td>(POLYGON ((-73.91136560837775 40.6638884536345...</td>\n",
       "    </tr>\n",
       "    <tr>\n",
       "      <th>3</th>\n",
       "      <td>B012</td>\n",
       "      <td>0</td>\n",
       "      <td>1</td>\n",
       "      <td>1</td>\n",
       "      <td>0</td>\n",
       "      <td>2</td>\n",
       "      <td>0</td>\n",
       "      <td>0</td>\n",
       "      <td>B012</td>\n",
       "      <td>POLYGON ((-73.94195616711707 40.67311713865221...</td>\n",
       "    </tr>\n",
       "    <tr>\n",
       "      <th>4</th>\n",
       "      <td>B016</td>\n",
       "      <td>0</td>\n",
       "      <td>1</td>\n",
       "      <td>0</td>\n",
       "      <td>1</td>\n",
       "      <td>2</td>\n",
       "      <td>0</td>\n",
       "      <td>0</td>\n",
       "      <td>B016</td>\n",
       "      <td>POLYGON ((-73.92396891415979 40.70211749600103...</td>\n",
       "    </tr>\n",
       "  </tbody>\n",
       "</table>\n",
       "</div>"
      ],
      "text/plain": [
       "  Prop_ID  Barbecue  Basketball  Dogfriend  Eateries  Playground  Tennis  \\\n",
       "0    B001         0           1          0         0           1       0   \n",
       "1    B007         0           1          0         0           1       1   \n",
       "2    B008         0           1          0         0           1       0   \n",
       "3    B012         0           1          1         0           2       0   \n",
       "4    B016         0           1          0         1           2       0   \n",
       "\n",
       "   skate parknum                                           geometry  \n",
       "0      0    B001  POLYGON ((-73.95819910692008 40.72846909429816...  \n",
       "1      0    B007  (POLYGON ((-74.00191712205063 40.5944044883299...  \n",
       "2      0    B008  (POLYGON ((-73.91136560837775 40.6638884536345...  \n",
       "3      0    B012  POLYGON ((-73.94195616711707 40.67311713865221...  \n",
       "4      0    B016  POLYGON ((-73.92396891415979 40.70211749600103...  "
      ]
     },
     "execution_count": 113,
     "metadata": {},
     "output_type": "execute_result"
    }
   ],
   "source": [
    "facilitygs.head()"
   ]
  },
  {
   "cell_type": "code",
   "execution_count": 114,
   "metadata": {},
   "outputs": [],
   "source": [
    "facilitygs['area'] = facilitygs['geometry'].apply(lambda x: (x.area * 111**2))"
   ]
  },
  {
   "cell_type": "code",
   "execution_count": 115,
   "metadata": {},
   "outputs": [],
   "source": [
    "greenname=gs[['parknum','park_name']]\n",
    "greenname=greenname.drop_duplicates()"
   ]
  },
  {
   "cell_type": "code",
   "execution_count": 116,
   "metadata": {},
   "outputs": [],
   "source": [
    "gsfacility=facilitygs.merge(greenname,on=\"parknum\",how=\"inner\")"
   ]
  },
  {
   "cell_type": "code",
   "execution_count": 117,
   "metadata": {},
   "outputs": [
    {
     "data": {
      "text/html": [
       "<div>\n",
       "<style scoped>\n",
       "    .dataframe tbody tr th:only-of-type {\n",
       "        vertical-align: middle;\n",
       "    }\n",
       "\n",
       "    .dataframe tbody tr th {\n",
       "        vertical-align: top;\n",
       "    }\n",
       "\n",
       "    .dataframe thead th {\n",
       "        text-align: right;\n",
       "    }\n",
       "</style>\n",
       "<table border=\"1\" class=\"dataframe\">\n",
       "  <thead>\n",
       "    <tr style=\"text-align: right;\">\n",
       "      <th></th>\n",
       "      <th>Prop_ID</th>\n",
       "      <th>Barbecue</th>\n",
       "      <th>Basketball</th>\n",
       "      <th>Dogfriend</th>\n",
       "      <th>Eateries</th>\n",
       "      <th>Playground</th>\n",
       "      <th>Tennis</th>\n",
       "      <th>skate</th>\n",
       "      <th>parknum</th>\n",
       "      <th>geometry</th>\n",
       "      <th>area</th>\n",
       "      <th>park_name</th>\n",
       "    </tr>\n",
       "  </thead>\n",
       "  <tbody>\n",
       "    <tr>\n",
       "      <th>0</th>\n",
       "      <td>B001</td>\n",
       "      <td>0</td>\n",
       "      <td>1</td>\n",
       "      <td>0</td>\n",
       "      <td>0</td>\n",
       "      <td>1</td>\n",
       "      <td>0</td>\n",
       "      <td>0</td>\n",
       "      <td>B001</td>\n",
       "      <td>POLYGON ((-73.95819910692008 40.72846909429816...</td>\n",
       "      <td>0.004740</td>\n",
       "      <td>American Playground</td>\n",
       "    </tr>\n",
       "    <tr>\n",
       "      <th>1</th>\n",
       "      <td>B007</td>\n",
       "      <td>0</td>\n",
       "      <td>1</td>\n",
       "      <td>0</td>\n",
       "      <td>0</td>\n",
       "      <td>1</td>\n",
       "      <td>1</td>\n",
       "      <td>0</td>\n",
       "      <td>B007</td>\n",
       "      <td>(POLYGON ((-74.00191712205063 40.5944044883299...</td>\n",
       "      <td>0.091409</td>\n",
       "      <td>Bensonhurst Park</td>\n",
       "    </tr>\n",
       "    <tr>\n",
       "      <th>2</th>\n",
       "      <td>B008</td>\n",
       "      <td>0</td>\n",
       "      <td>1</td>\n",
       "      <td>0</td>\n",
       "      <td>0</td>\n",
       "      <td>1</td>\n",
       "      <td>0</td>\n",
       "      <td>0</td>\n",
       "      <td>B008</td>\n",
       "      <td>(POLYGON ((-73.91136560837775 40.6638884536345...</td>\n",
       "      <td>0.057211</td>\n",
       "      <td>Betsy Head Park</td>\n",
       "    </tr>\n",
       "    <tr>\n",
       "      <th>3</th>\n",
       "      <td>B008</td>\n",
       "      <td>0</td>\n",
       "      <td>1</td>\n",
       "      <td>0</td>\n",
       "      <td>0</td>\n",
       "      <td>1</td>\n",
       "      <td>0</td>\n",
       "      <td>0</td>\n",
       "      <td>B008</td>\n",
       "      <td>(POLYGON ((-73.91136560837775 40.6638884536345...</td>\n",
       "      <td>0.057211</td>\n",
       "      <td>Betsy Head</td>\n",
       "    </tr>\n",
       "    <tr>\n",
       "      <th>4</th>\n",
       "      <td>B008</td>\n",
       "      <td>0</td>\n",
       "      <td>1</td>\n",
       "      <td>0</td>\n",
       "      <td>0</td>\n",
       "      <td>1</td>\n",
       "      <td>0</td>\n",
       "      <td>0</td>\n",
       "      <td>B008</td>\n",
       "      <td>(POLYGON ((-73.91136560837775 40.6638884536345...</td>\n",
       "      <td>0.057211</td>\n",
       "      <td>Greenstreet</td>\n",
       "    </tr>\n",
       "  </tbody>\n",
       "</table>\n",
       "</div>"
      ],
      "text/plain": [
       "  Prop_ID  Barbecue  Basketball  Dogfriend  Eateries  Playground  Tennis  \\\n",
       "0    B001         0           1          0         0           1       0   \n",
       "1    B007         0           1          0         0           1       1   \n",
       "2    B008         0           1          0         0           1       0   \n",
       "3    B008         0           1          0         0           1       0   \n",
       "4    B008         0           1          0         0           1       0   \n",
       "\n",
       "   skate parknum                                           geometry      area  \\\n",
       "0      0    B001  POLYGON ((-73.95819910692008 40.72846909429816...  0.004740   \n",
       "1      0    B007  (POLYGON ((-74.00191712205063 40.5944044883299...  0.091409   \n",
       "2      0    B008  (POLYGON ((-73.91136560837775 40.6638884536345...  0.057211   \n",
       "3      0    B008  (POLYGON ((-73.91136560837775 40.6638884536345...  0.057211   \n",
       "4      0    B008  (POLYGON ((-73.91136560837775 40.6638884536345...  0.057211   \n",
       "\n",
       "             park_name  \n",
       "0  American Playground  \n",
       "1     Bensonhurst Park  \n",
       "2      Betsy Head Park  \n",
       "3           Betsy Head  \n",
       "4          Greenstreet  "
      ]
     },
     "execution_count": 117,
     "metadata": {},
     "output_type": "execute_result"
    }
   ],
   "source": [
    "gsfacility.head()"
   ]
  },
  {
   "cell_type": "code",
   "execution_count": 118,
   "metadata": {},
   "outputs": [],
   "source": [
    "gsfacility=gpd.GeoDataFrame(gsfacility)"
   ]
  },
  {
   "cell_type": "code",
   "execution_count": 119,
   "metadata": {},
   "outputs": [],
   "source": [
    "gsfacility.to_file(driver = 'ESRI Shapefile', filename='green_facility')"
   ]
  },
  {
   "cell_type": "code",
   "execution_count": 120,
   "metadata": {},
   "outputs": [
    {
     "name": "stdout",
     "output_type": "stream",
     "text": [
      "Usage: choroplathNYC <path to shapefile> <column>\n",
      "\n",
      "Options:\n",
      "  -h, --help            show this help message and exit\n",
      "  -d, --discrete        discrete steps color bar\n",
      "  -m CMAP, --cmap=CMAP  matplotlib colormap name\n",
      "  -t TITLE, --title=TITLE\n",
      "                        title of figure\n",
      "  -o OUTPUT, --output=OUTPUT\n",
      "                        output file  (must be pylab compatible extension, e.g.\n",
      "                        pdf png etc\n",
      "  --clobber             clobber output file\n",
      "  --noshow              do not show figure (default)\n",
      "  --debug               print debug statements\n"
     ]
    }
   ],
   "source": [
    "%run ~/choroplethNYC.py"
   ]
  },
  {
   "cell_type": "code",
   "execution_count": 189,
   "metadata": {},
   "outputs": [
    {
     "data": {
      "image/png": "[encoded data removed]",
      "text/plain": [
       "<matplotlib.figure.Figure at 0x7f52ce1812b0>"
      ]
     },
     "metadata": {
      "needs_background": "light"
     },
     "output_type": "display_data"
    }
   ],
   "source": [
    "choroplethNYC(gsfacility,column=\"area\",cmap=\"viridis\")\n",
    "pylab.savefig('parkarea.png')"
   ]
  },
  {
   "cell_type": "markdown",
   "metadata": {},
   "source": [
    "Figure 1: Chorepleth on the size of area of green space in NYC."
   ]
  },
  {
   "cell_type": "code",
   "execution_count": 122,
   "metadata": {},
   "outputs": [
    {
     "name": "stderr",
     "output_type": "stream",
     "text": [
      "/usr/local/Anaconda3-5.0.0-Linux-x86_64/envs/ADS/lib/python3.5/site-packages/IPython/core/interactiveshell.py:2785: DtypeWarning: Columns (13,14,19) have mixed types. Specify dtype option on import or set low_memory=False.\n",
      "  interactivity=interactivity, compiler=compiler, result=result)\n"
     ]
    }
   ],
   "source": [
    "clean=pd.read_csv('Parks_Inspection_Program___Inspections.csv')"
   ]
  },
  {
   "cell_type": "code",
   "execution_count": 123,
   "metadata": {},
   "outputs": [
    {
     "data": {
      "text/plain": [
       "count    102332.000000\n",
       "mean          3.436735\n",
       "std           1.732921\n",
       "min           0.000000\n",
       "25%           2.000000\n",
       "50%           3.000000\n",
       "75%           5.000000\n",
       "max           6.000000\n",
       "Name: Round, dtype: float64"
      ]
     },
     "execution_count": 123,
     "metadata": {},
     "output_type": "execute_result"
    }
   ],
   "source": [
    "clean['Round'].describe()"
   ]
  },
  {
   "cell_type": "code",
   "execution_count": 124,
   "metadata": {},
   "outputs": [],
   "source": [
    "clean1=clean[clean['Inspection Year']==2017]"
   ]
  },
  {
   "cell_type": "code",
   "execution_count": 125,
   "metadata": {},
   "outputs": [
    {
     "data": {
      "text/plain": [
       "(1105, 12)"
      ]
     },
     "execution_count": 125,
     "metadata": {},
     "output_type": "execute_result"
    }
   ],
   "source": [
    "gsfacility.shape"
   ]
  },
  {
   "cell_type": "code",
   "execution_count": 126,
   "metadata": {},
   "outputs": [],
   "source": [
    "clean1=clean1[['Prop ID','Cleanliness']]"
   ]
  },
  {
   "cell_type": "code",
   "execution_count": 127,
   "metadata": {},
   "outputs": [],
   "source": [
    "clean1=clean1.drop_duplicates(subset='Prop ID', keep=\"last\")"
   ]
  },
  {
   "cell_type": "code",
   "execution_count": 128,
   "metadata": {},
   "outputs": [],
   "source": [
    "gsclean=gsfacility.merge(clean1,left_on=\"parknum\",right_on=\"Prop ID\",how=\"inner\")"
   ]
  },
  {
   "cell_type": "code",
   "execution_count": 129,
   "metadata": {},
   "outputs": [
    {
     "data": {
      "text/plain": [
       "(837, 14)"
      ]
     },
     "execution_count": 129,
     "metadata": {},
     "output_type": "execute_result"
    }
   ],
   "source": [
    "gsclean.shape"
   ]
  },
  {
   "cell_type": "code",
   "execution_count": 130,
   "metadata": {},
   "outputs": [
    {
     "data": {
      "text/plain": [
       "Index(['Prop_ID', 'Barbecue', 'Basketball', 'Dogfriend', 'Eateries',\n",
       "       'Playground', 'Tennis', 'skate', 'parknum', 'geometry', 'area',\n",
       "       'park_name', 'Prop ID', 'Cleanliness'],\n",
       "      dtype='object')"
      ]
     },
     "execution_count": 130,
     "metadata": {},
     "output_type": "execute_result"
    }
   ],
   "source": [
    "gsclean.columns"
   ]
  },
  {
   "cell_type": "code",
   "execution_count": 131,
   "metadata": {},
   "outputs": [],
   "source": [
    "gscleanrf=gsclean[['Barbecue', 'Basketball', 'Dogfriend', 'Eateries',\n",
    "       'Playground', 'Tennis', 'skate', 'area','Cleanliness']]"
   ]
  },
  {
   "cell_type": "code",
   "execution_count": 132,
   "metadata": {},
   "outputs": [
    {
     "name": "stderr",
     "output_type": "stream",
     "text": [
      "/usr/local/Anaconda3-5.0.0-Linux-x86_64/envs/ADS/lib/python3.5/site-packages/ipykernel_launcher.py:1: SettingWithCopyWarning: \n",
      "A value is trying to be set on a copy of a slice from a DataFrame.\n",
      "Try using .loc[row_indexer,col_indexer] = value instead\n",
      "\n",
      "See the caveats in the documentation: http://pandas.pydata.org/pandas-docs/stable/indexing.html#indexing-view-versus-copy\n",
      "  \"\"\"Entry point for launching an IPython kernel.\n"
     ]
    }
   ],
   "source": [
    "gscleanrf['Ind']=np.zeros((len(gscleanrf),),dtype=np.int)+1"
   ]
  },
  {
   "cell_type": "code",
   "execution_count": 133,
   "metadata": {},
   "outputs": [
    {
     "name": "stderr",
     "output_type": "stream",
     "text": [
      "/usr/local/Anaconda3-5.0.0-Linux-x86_64/envs/ADS/lib/python3.5/site-packages/ipykernel_launcher.py:2: SettingWithCopyWarning: \n",
      "A value is trying to be set on a copy of a slice from a DataFrame\n",
      "\n",
      "See the caveats in the documentation: http://pandas.pydata.org/pandas-docs/stable/indexing.html#indexing-view-versus-copy\n",
      "  \n",
      "/usr/local/Anaconda3-5.0.0-Linux-x86_64/envs/ADS/lib/python3.5/site-packages/IPython/core/interactiveshell.py:2961: SettingWithCopyWarning: \n",
      "A value is trying to be set on a copy of a slice from a DataFrame\n",
      "\n",
      "See the caveats in the documentation: http://pandas.pydata.org/pandas-docs/stable/indexing.html#indexing-view-versus-copy\n",
      "  exec(code_obj, self.user_global_ns, self.user_ns)\n",
      "/usr/local/Anaconda3-5.0.0-Linux-x86_64/envs/ADS/lib/python3.5/site-packages/ipykernel_launcher.py:3: SettingWithCopyWarning: \n",
      "A value is trying to be set on a copy of a slice from a DataFrame\n",
      "\n",
      "See the caveats in the documentation: http://pandas.pydata.org/pandas-docs/stable/indexing.html#indexing-view-versus-copy\n",
      "  This is separate from the ipykernel package so we can avoid doing imports until\n"
     ]
    }
   ],
   "source": [
    "for i in range(len(gscleanrf)):\n",
    "    if gscleanrf['Cleanliness'][i]=='A':gscleanrf['Ind'][i]+=1\n",
    "    if gscleanrf['Cleanliness'][i]=='U':gscleanrf['Ind'][i]+=2"
   ]
  },
  {
   "cell_type": "code",
   "execution_count": 134,
   "metadata": {},
   "outputs": [
    {
     "name": "stderr",
     "output_type": "stream",
     "text": [
      "/usr/local/Anaconda3-5.0.0-Linux-x86_64/envs/ADS/lib/python3.5/site-packages/ipykernel_launcher.py:2: SettingWithCopyWarning: \n",
      "A value is trying to be set on a copy of a slice from a DataFrame.\n",
      "Try using .loc[row_indexer,col_indexer] = value instead\n",
      "\n",
      "See the caveats in the documentation: http://pandas.pydata.org/pandas-docs/stable/indexing.html#indexing-view-versus-copy\n",
      "  \n",
      "/usr/local/Anaconda3-5.0.0-Linux-x86_64/envs/ADS/lib/python3.5/site-packages/ipykernel_launcher.py:3: SettingWithCopyWarning: \n",
      "A value is trying to be set on a copy of a slice from a DataFrame.\n",
      "Try using .loc[row_indexer,col_indexer] = value instead\n",
      "\n",
      "See the caveats in the documentation: http://pandas.pydata.org/pandas-docs/stable/indexing.html#indexing-view-versus-copy\n",
      "  This is separate from the ipykernel package so we can avoid doing imports until\n"
     ]
    }
   ],
   "source": [
    "np.random.seed(12345)\n",
    "gscleanrf['index'] = np.random.uniform(low = 0, high = 1, size = len(gscleanrf))\n",
    "gscleanrf['test'] = pd.get_dummies(gscleanrf['index'] <= 0.3333)[1]\n",
    "\n",
    "# We don't need the index, so drop it.\n",
    "del gscleanrf['index']"
   ]
  },
  {
   "cell_type": "code",
   "execution_count": 135,
   "metadata": {},
   "outputs": [],
   "source": [
    "gscleanrftest = gscleanrf[gscleanrf['test'] == 1]\n",
    "gscleanrftrain = gscleanrf[gscleanrf['test'] == 0]"
   ]
  },
  {
   "cell_type": "code",
   "execution_count": 136,
   "metadata": {},
   "outputs": [
    {
     "data": {
      "text/html": [
       "<div>\n",
       "<style scoped>\n",
       "    .dataframe tbody tr th:only-of-type {\n",
       "        vertical-align: middle;\n",
       "    }\n",
       "\n",
       "    .dataframe tbody tr th {\n",
       "        vertical-align: top;\n",
       "    }\n",
       "\n",
       "    .dataframe thead th {\n",
       "        text-align: right;\n",
       "    }\n",
       "</style>\n",
       "<table border=\"1\" class=\"dataframe\">\n",
       "  <thead>\n",
       "    <tr style=\"text-align: right;\">\n",
       "      <th></th>\n",
       "      <th>Barbecue</th>\n",
       "      <th>Basketball</th>\n",
       "      <th>Dogfriend</th>\n",
       "      <th>Eateries</th>\n",
       "      <th>Playground</th>\n",
       "      <th>Tennis</th>\n",
       "      <th>skate</th>\n",
       "      <th>area</th>\n",
       "      <th>Cleanliness</th>\n",
       "      <th>Ind</th>\n",
       "      <th>test</th>\n",
       "    </tr>\n",
       "  </thead>\n",
       "  <tbody>\n",
       "    <tr>\n",
       "      <th>0</th>\n",
       "      <td>0</td>\n",
       "      <td>1</td>\n",
       "      <td>0</td>\n",
       "      <td>0</td>\n",
       "      <td>1</td>\n",
       "      <td>0</td>\n",
       "      <td>0</td>\n",
       "      <td>0.004740</td>\n",
       "      <td>A</td>\n",
       "      <td>2</td>\n",
       "      <td>0</td>\n",
       "    </tr>\n",
       "    <tr>\n",
       "      <th>4</th>\n",
       "      <td>0</td>\n",
       "      <td>1</td>\n",
       "      <td>0</td>\n",
       "      <td>0</td>\n",
       "      <td>1</td>\n",
       "      <td>0</td>\n",
       "      <td>0</td>\n",
       "      <td>0.057211</td>\n",
       "      <td>A</td>\n",
       "      <td>2</td>\n",
       "      <td>0</td>\n",
       "    </tr>\n",
       "    <tr>\n",
       "      <th>5</th>\n",
       "      <td>0</td>\n",
       "      <td>1</td>\n",
       "      <td>1</td>\n",
       "      <td>0</td>\n",
       "      <td>2</td>\n",
       "      <td>0</td>\n",
       "      <td>0</td>\n",
       "      <td>0.037705</td>\n",
       "      <td>A</td>\n",
       "      <td>2</td>\n",
       "      <td>0</td>\n",
       "    </tr>\n",
       "    <tr>\n",
       "      <th>6</th>\n",
       "      <td>0</td>\n",
       "      <td>1</td>\n",
       "      <td>0</td>\n",
       "      <td>1</td>\n",
       "      <td>2</td>\n",
       "      <td>0</td>\n",
       "      <td>0</td>\n",
       "      <td>0.036870</td>\n",
       "      <td>A</td>\n",
       "      <td>2</td>\n",
       "      <td>0</td>\n",
       "    </tr>\n",
       "    <tr>\n",
       "      <th>7</th>\n",
       "      <td>0</td>\n",
       "      <td>0</td>\n",
       "      <td>0</td>\n",
       "      <td>0</td>\n",
       "      <td>1</td>\n",
       "      <td>0</td>\n",
       "      <td>0</td>\n",
       "      <td>0.015399</td>\n",
       "      <td>A</td>\n",
       "      <td>2</td>\n",
       "      <td>0</td>\n",
       "    </tr>\n",
       "  </tbody>\n",
       "</table>\n",
       "</div>"
      ],
      "text/plain": [
       "   Barbecue  Basketball  Dogfriend  Eateries  Playground  Tennis  skate  \\\n",
       "0         0           1          0         0           1       0      0   \n",
       "4         0           1          0         0           1       0      0   \n",
       "5         0           1          1         0           2       0      0   \n",
       "6         0           1          0         1           2       0      0   \n",
       "7         0           0          0         0           1       0      0   \n",
       "\n",
       "       area Cleanliness  Ind  test  \n",
       "0  0.004740           A    2     0  \n",
       "4  0.057211           A    2     0  \n",
       "5  0.037705           A    2     0  \n",
       "6  0.036870           A    2     0  \n",
       "7  0.015399           A    2     0  "
      ]
     },
     "execution_count": 136,
     "metadata": {},
     "output_type": "execute_result"
    }
   ],
   "source": [
    "gscleanrftrain.head()"
   ]
  },
  {
   "cell_type": "code",
   "execution_count": 137,
   "metadata": {},
   "outputs": [
    {
     "name": "stderr",
     "output_type": "stream",
     "text": [
      "/usr/local/Anaconda3-5.0.0-Linux-x86_64/envs/ADS/lib/python3.5/site-packages/ipykernel_launcher.py:1: FutureWarning: Method .as_matrix will be removed in a future version. Use .values instead.\n",
      "  \"\"\"Entry point for launching an IPython kernel.\n",
      "/usr/local/Anaconda3-5.0.0-Linux-x86_64/envs/ADS/lib/python3.5/site-packages/ipykernel_launcher.py:2: FutureWarning: Method .as_matrix will be removed in a future version. Use .values instead.\n",
      "  \n"
     ]
    }
   ],
   "source": [
    "ytrain = gscleanrftrain['Ind'].as_matrix(columns=None)\n",
    "ytest = gscleanrftest['Ind'].as_matrix(columns=None)"
   ]
  },
  {
   "cell_type": "code",
   "execution_count": 138,
   "metadata": {},
   "outputs": [
    {
     "name": "stderr",
     "output_type": "stream",
     "text": [
      "/usr/local/Anaconda3-5.0.0-Linux-x86_64/envs/ADS/lib/python3.5/site-packages/ipykernel_launcher.py:2: FutureWarning: Method .as_matrix will be removed in a future version. Use .values instead.\n",
      "  \n",
      "/usr/local/Anaconda3-5.0.0-Linux-x86_64/envs/ADS/lib/python3.5/site-packages/ipykernel_launcher.py:4: FutureWarning: Method .as_matrix will be removed in a future version. Use .values instead.\n",
      "  after removing the cwd from sys.path.\n"
     ]
    }
   ],
   "source": [
    "Xtrain=gscleanrftrain[['Barbecue', 'Basketball', 'Dogfriend', 'Eateries',\n",
    "       'Playground', 'Tennis', 'skate', 'area']].as_matrix(columns=None)\n",
    "Xtest=gscleanrftest[['Barbecue', 'Basketball', 'Dogfriend', 'Eateries',\n",
    "       'Playground', 'Tennis', 'skate', 'area']].as_matrix(columns=None)"
   ]
  },
  {
   "cell_type": "code",
   "execution_count": 139,
   "metadata": {},
   "outputs": [],
   "source": [
    "from sklearn.ensemble import RandomForestClassifier\n",
    "\n",
    "np.random.seed(12345)\n",
    "rf = RandomForestClassifier(n_estimators = 100)\n",
    "rf.fit(Xtrain, ytrain)\n",
    "ypred = rf.predict(Xtest)"
   ]
  },
  {
   "cell_type": "code",
   "execution_count": 140,
   "metadata": {},
   "outputs": [
    {
     "data": {
      "text/plain": [
       "array([2, 2, 2, 2, 2, 2, 2, 2, 2, 2, 2, 2, 2, 2, 2, 2, 2, 2, 3, 2, 2, 2, 3,\n",
       "       2, 2, 2, 2, 2, 2, 3, 3, 3, 2, 2, 2, 3, 2, 2, 2, 2, 2, 2, 2, 2, 2, 2,\n",
       "       2, 3, 2, 2, 2, 2, 2, 2, 3, 2, 3, 2, 2, 2, 2, 2, 2, 2, 3, 2, 2, 2, 2,\n",
       "       2, 2, 2, 2, 2, 2, 2, 2, 2, 2, 2, 2, 2, 3, 2, 3, 3, 2, 2, 2, 2, 2, 2,\n",
       "       2, 3, 2, 3, 2, 3, 2, 3, 3, 3, 2, 2, 3, 2, 3, 2, 2, 3, 2, 2, 2, 2, 2,\n",
       "       2, 2, 3, 2, 2, 2, 2, 2, 2, 2, 2, 2, 2, 2, 2, 3, 2, 2, 2, 2, 2, 3, 2,\n",
       "       3, 2, 2, 2, 2, 2, 2, 2, 2, 2, 2, 3, 3, 2, 2, 2, 2, 2, 2, 2, 2, 2, 3,\n",
       "       2, 2, 3, 2, 2, 2, 2, 2, 2, 2, 2, 2, 2, 2, 2, 2, 2, 2, 2, 2, 2, 2, 2,\n",
       "       2, 2, 2, 3, 2, 2, 2, 3, 3, 3, 3, 3, 2, 3, 2, 2, 2, 2, 2, 2, 2, 2, 2,\n",
       "       2, 2, 2, 2, 2, 2, 2, 1, 2, 2, 2, 2, 2, 3, 2, 2, 2, 2, 2, 2, 3, 2, 2,\n",
       "       2, 2, 2, 3, 3, 2, 2, 2, 2, 2, 3, 2, 2, 2, 2, 2, 2, 2, 2, 2, 2, 2, 2,\n",
       "       2, 2, 2, 2, 2, 2, 2, 2, 2, 2, 2, 2, 2, 2, 2, 2, 2, 2, 2, 2, 2, 2, 2,\n",
       "       2, 2, 2, 2, 2, 2, 2, 2, 3, 2, 2, 2, 2, 2, 2, 2, 2, 2, 2, 2, 2, 2, 2,\n",
       "       2, 2, 2, 2, 2, 2, 2, 2, 2, 2, 2, 2, 2, 2, 2, 3, 2, 2, 2, 3, 2, 2, 2,\n",
       "       2, 2, 2, 3, 3, 2, 2, 2, 2, 2, 2, 2, 3, 2, 2, 2, 2, 2, 2, 2, 2, 2, 2,\n",
       "       2, 2, 2, 2, 2, 2, 2, 2, 2, 2, 2, 2, 2, 2, 2, 3, 2, 2, 2, 2, 2, 2, 2,\n",
       "       2, 2, 2, 2, 2, 2, 2, 2, 2, 2, 2, 2, 2, 2, 3, 3, 2, 2, 2, 2, 2, 2, 2,\n",
       "       2, 2, 2, 2, 2, 2, 2, 3, 2, 2, 2, 2, 2, 2, 2, 2, 2, 2, 2, 2, 2, 2, 2,\n",
       "       3, 2, 2, 2, 3, 2, 2, 3, 2, 2, 2, 2, 2, 2, 2, 2, 3, 2, 2, 2, 2, 2, 2,\n",
       "       2, 2, 2, 2, 2, 2, 2, 2, 2, 2, 2, 2, 2, 3, 2, 2, 2, 2, 2, 2, 2, 2, 2,\n",
       "       2, 2, 2, 2, 2, 2, 2, 2, 2, 2, 2, 2, 2, 2, 3, 3, 2, 3, 2, 2, 3, 2, 2,\n",
       "       2, 2, 2, 2, 2, 2, 2, 2, 2, 2, 2, 2, 2, 2, 2, 2, 2, 3, 2, 3, 2, 2, 3,\n",
       "       2, 2, 2, 2, 2, 2, 2, 2, 2, 2, 2, 2, 2, 2, 2, 2, 2, 3, 2, 2, 2, 2, 2,\n",
       "       2, 2, 2, 2, 2, 2, 2, 2, 2, 2, 2, 2, 2, 1, 2, 2, 2, 3, 2, 2, 2, 2, 3,\n",
       "       2, 2, 2, 2, 2, 2, 2, 2, 2, 2, 2])"
      ]
     },
     "execution_count": 140,
     "metadata": {},
     "output_type": "execute_result"
    }
   ],
   "source": [
    "ytrain"
   ]
  },
  {
   "cell_type": "code",
   "execution_count": 141,
   "metadata": {},
   "outputs": [
    {
     "data": {
      "text/plain": [
       "array([2, 2, 2, 2, 2, 2, 3, 2, 3, 2, 2, 2, 2, 2, 2, 2, 2, 2, 2, 2, 2, 2, 2,\n",
       "       2, 3, 2, 2, 2, 2, 2, 2, 2, 2, 2, 2, 2, 2, 2, 2, 3, 2, 2, 2, 2, 2, 2,\n",
       "       2, 3, 3, 2, 2, 2, 2, 2, 3, 2, 3, 2, 2, 2, 2, 2, 3, 2, 2, 3, 2, 2, 2,\n",
       "       2, 2, 2, 2, 3, 2, 2, 2, 3, 2, 2, 2, 2, 2, 2, 2, 3, 2, 2, 2, 2, 2, 2,\n",
       "       2, 2, 2, 2, 2, 2, 3, 2, 2, 2, 2, 2, 2, 3, 2, 2, 2, 2, 3, 2, 2, 2, 2,\n",
       "       2, 2, 2, 2, 2, 2, 2, 2, 2, 2, 2, 3, 2, 2, 2, 2, 3, 2, 2, 2, 2, 2, 2,\n",
       "       2, 2, 3, 2, 2, 2, 2, 2, 2, 2, 2, 2, 2, 2, 2, 2, 3, 3, 2, 2, 2, 2, 2,\n",
       "       2, 2, 2, 2, 3, 2, 2, 2, 2, 2, 2, 2, 2, 3, 2, 2, 2, 2, 3, 2, 3, 2, 2,\n",
       "       2, 2, 2, 2, 2, 3, 2, 2, 2, 2, 2, 2, 2, 2, 2, 2, 2, 2, 2, 2, 2, 2, 3,\n",
       "       2, 2, 2, 2, 2, 2, 2, 2, 3, 2, 2, 2, 2, 2, 2, 2, 2, 2, 2, 2, 2, 2, 2,\n",
       "       2, 2, 3, 2, 2, 2, 2, 3, 2, 2, 2, 2, 3, 2, 2, 2, 3, 2, 2, 3, 2, 2, 2,\n",
       "       3, 2, 2, 2, 2, 2, 2, 2, 2, 2, 2, 2, 2, 2, 2, 2, 2, 2, 2, 2, 2])"
      ]
     },
     "execution_count": 141,
     "metadata": {},
     "output_type": "execute_result"
    }
   ],
   "source": [
    "ypred"
   ]
  },
  {
   "cell_type": "code",
   "execution_count": 142,
   "metadata": {},
   "outputs": [],
   "source": [
    "from sklearn.metrics import confusion_matrix\n",
    "from sklearn.metrics import mean_squared_error"
   ]
  },
  {
   "cell_type": "code",
   "execution_count": 143,
   "metadata": {},
   "outputs": [],
   "source": [
    "cm = confusion_matrix(ytest, ypred)\n",
    "RFcm = cm\n",
    "MSE = mean_squared_error(ytest, ypred)"
   ]
  },
  {
   "cell_type": "code",
   "execution_count": 144,
   "metadata": {},
   "outputs": [],
   "source": [
    "ACC = (cm[0][0] + cm[1][1]) / (len(ypred))"
   ]
  },
  {
   "cell_type": "code",
   "execution_count": 145,
   "metadata": {},
   "outputs": [],
   "source": [
    "from tabulate import tabulate"
   ]
  },
  {
   "cell_type": "code",
   "execution_count": 146,
   "metadata": {},
   "outputs": [
    {
     "name": "stdout",
     "output_type": "stream",
     "text": [
      "The confusion matrix is:\n",
      "╒═══╤═════╤════╕\n",
      "│   │  1  │ 2  │\n",
      "├───┼─────┼────┤\n",
      "│ 1 │ 212 │ 33 │\n",
      "├───┼─────┼────┤\n",
      "│ 2 │ 28  │ 1  │\n",
      "╘═══╧═════╧════╛\n",
      "The Accuracy Rate is 0.777372262774\n"
     ]
    }
   ],
   "source": [
    "table = [[\" \",\"1\", \"2\"],\n",
    "         [\"1\", cm[0][0], cm[0][1]], \n",
    "         [\"2\", cm[1][0], cm[1][1]]] \n",
    "         \n",
    "print(\"The confusion matrix is:\")\n",
    "print(tabulate(table, tablefmt=\"fancy_grid\", numalign = \"center\"))\n",
    "print(\"The Accuracy Rate is\", ACC)"
   ]
  },
  {
   "cell_type": "code",
   "execution_count": 186,
   "metadata": {},
   "outputs": [],
   "source": [
    "gsfit=smf.ols('Ind ~ Barbecue+Basketball+Dogfriend+Eateries+Playground+Tennis+skate',data=gscleanrf).fit()"
   ]
  },
  {
   "cell_type": "code",
   "execution_count": 187,
   "metadata": {},
   "outputs": [
    {
     "data": {
      "text/html": [
       "<table class=\"simpletable\">\n",
       "<caption>OLS Regression Results</caption>\n",
       "<tr>\n",
       "  <th>Dep. Variable:</th>           <td>Ind</td>       <th>  R-squared:         </th> <td>   0.008</td>\n",
       "</tr>\n",
       "<tr>\n",
       "  <th>Model:</th>                   <td>OLS</td>       <th>  Adj. R-squared:    </th> <td>  -0.000</td>\n",
       "</tr>\n",
       "<tr>\n",
       "  <th>Method:</th>             <td>Least Squares</td>  <th>  F-statistic:       </th> <td>  0.9738</td>\n",
       "</tr>\n",
       "<tr>\n",
       "  <th>Date:</th>             <td>Thu, 13 Dec 2018</td> <th>  Prob (F-statistic):</th>  <td> 0.449</td> \n",
       "</tr>\n",
       "<tr>\n",
       "  <th>Time:</th>                 <td>00:34:25</td>     <th>  Log-Likelihood:    </th> <td> -238.90</td>\n",
       "</tr>\n",
       "<tr>\n",
       "  <th>No. Observations:</th>      <td>   837</td>      <th>  AIC:               </th> <td>   493.8</td>\n",
       "</tr>\n",
       "<tr>\n",
       "  <th>Df Residuals:</th>          <td>   829</td>      <th>  BIC:               </th> <td>   531.6</td>\n",
       "</tr>\n",
       "<tr>\n",
       "  <th>Df Model:</th>              <td>     7</td>      <th>                     </th>     <td> </td>   \n",
       "</tr>\n",
       "<tr>\n",
       "  <th>Covariance Type:</th>      <td>nonrobust</td>    <th>                     </th>     <td> </td>   \n",
       "</tr>\n",
       "</table>\n",
       "<table class=\"simpletable\">\n",
       "<tr>\n",
       "       <td></td>         <th>coef</th>     <th>std err</th>      <th>t</th>      <th>P>|t|</th>  <th>[0.025</th>    <th>0.975]</th>  \n",
       "</tr>\n",
       "<tr>\n",
       "  <th>Intercept</th>  <td>    2.0656</td> <td>    0.032</td> <td>   64.091</td> <td> 0.000</td> <td>    2.002</td> <td>    2.129</td>\n",
       "</tr>\n",
       "<tr>\n",
       "  <th>Barbecue</th>   <td>    0.1158</td> <td>    0.076</td> <td>    1.517</td> <td> 0.130</td> <td>   -0.034</td> <td>    0.266</td>\n",
       "</tr>\n",
       "<tr>\n",
       "  <th>Basketball</th> <td>    0.0229</td> <td>    0.022</td> <td>    1.019</td> <td> 0.308</td> <td>   -0.021</td> <td>    0.067</td>\n",
       "</tr>\n",
       "<tr>\n",
       "  <th>Dogfriend</th>  <td>    0.0308</td> <td>    0.040</td> <td>    0.762</td> <td> 0.446</td> <td>   -0.049</td> <td>    0.110</td>\n",
       "</tr>\n",
       "<tr>\n",
       "  <th>Eateries</th>   <td>    0.0065</td> <td>    0.030</td> <td>    0.217</td> <td> 0.828</td> <td>   -0.053</td> <td>    0.066</td>\n",
       "</tr>\n",
       "<tr>\n",
       "  <th>Playground</th> <td>    0.0309</td> <td>    0.032</td> <td>    0.975</td> <td> 0.330</td> <td>   -0.031</td> <td>    0.093</td>\n",
       "</tr>\n",
       "<tr>\n",
       "  <th>Tennis</th>     <td>   -0.0505</td> <td>    0.054</td> <td>   -0.935</td> <td> 0.350</td> <td>   -0.157</td> <td>    0.056</td>\n",
       "</tr>\n",
       "<tr>\n",
       "  <th>skate</th>      <td>   -0.0656</td> <td>    0.325</td> <td>   -0.202</td> <td> 0.840</td> <td>   -0.704</td> <td>    0.572</td>\n",
       "</tr>\n",
       "</table>\n",
       "<table class=\"simpletable\">\n",
       "<tr>\n",
       "  <th>Omnibus:</th>       <td>362.692</td> <th>  Durbin-Watson:     </th> <td>   1.952</td> \n",
       "</tr>\n",
       "<tr>\n",
       "  <th>Prob(Omnibus):</th> <td> 0.000</td>  <th>  Jarque-Bera (JB):  </th> <td>1184.632</td> \n",
       "</tr>\n",
       "<tr>\n",
       "  <th>Skew:</th>          <td> 2.203</td>  <th>  Prob(JB):          </th> <td>5.76e-258</td>\n",
       "</tr>\n",
       "<tr>\n",
       "  <th>Kurtosis:</th>      <td> 6.814</td>  <th>  Cond. No.          </th> <td>    45.6</td> \n",
       "</tr>\n",
       "</table><br/><br/>Warnings:<br/>[1] Standard Errors assume that the covariance matrix of the errors is correctly specified."
      ],
      "text/plain": [
       "<class 'statsmodels.iolib.summary.Summary'>\n",
       "\"\"\"\n",
       "                            OLS Regression Results                            \n",
       "==============================================================================\n",
       "Dep. Variable:                    Ind   R-squared:                       0.008\n",
       "Model:                            OLS   Adj. R-squared:                 -0.000\n",
       "Method:                 Least Squares   F-statistic:                    0.9738\n",
       "Date:                Thu, 13 Dec 2018   Prob (F-statistic):              0.449\n",
       "Time:                        00:34:25   Log-Likelihood:                -238.90\n",
       "No. Observations:                 837   AIC:                             493.8\n",
       "Df Residuals:                     829   BIC:                             531.6\n",
       "Df Model:                           7                                         \n",
       "Covariance Type:            nonrobust                                         \n",
       "==============================================================================\n",
       "                 coef    std err          t      P>|t|      [0.025      0.975]\n",
       "------------------------------------------------------------------------------\n",
       "Intercept      2.0656      0.032     64.091      0.000       2.002       2.129\n",
       "Barbecue       0.1158      0.076      1.517      0.130      -0.034       0.266\n",
       "Basketball     0.0229      0.022      1.019      0.308      -0.021       0.067\n",
       "Dogfriend      0.0308      0.040      0.762      0.446      -0.049       0.110\n",
       "Eateries       0.0065      0.030      0.217      0.828      -0.053       0.066\n",
       "Playground     0.0309      0.032      0.975      0.330      -0.031       0.093\n",
       "Tennis        -0.0505      0.054     -0.935      0.350      -0.157       0.056\n",
       "skate         -0.0656      0.325     -0.202      0.840      -0.704       0.572\n",
       "==============================================================================\n",
       "Omnibus:                      362.692   Durbin-Watson:                   1.952\n",
       "Prob(Omnibus):                  0.000   Jarque-Bera (JB):             1184.632\n",
       "Skew:                           2.203   Prob(JB):                    5.76e-258\n",
       "Kurtosis:                       6.814   Cond. No.                         45.6\n",
       "==============================================================================\n",
       "\n",
       "Warnings:\n",
       "[1] Standard Errors assume that the covariance matrix of the errors is correctly specified.\n",
       "\"\"\""
      ]
     },
     "execution_count": 187,
     "metadata": {},
     "output_type": "execute_result"
    }
   ],
   "source": [
    "gsfit.summary()"
   ]
  },
  {
   "cell_type": "code",
   "execution_count": 148,
   "metadata": {},
   "outputs": [],
   "source": [
    "vals=gsclean[['Barbecue','Basketball','Dogfriend','Eateries','Playground','Tennis','skate']]"
   ]
  },
  {
   "cell_type": "code",
   "execution_count": 150,
   "metadata": {},
   "outputs": [],
   "source": [
    "valstd = ((vals.T - vals.mean(1)) / vals.std(1)).T"
   ]
  },
  {
   "cell_type": "code",
   "execution_count": 156,
   "metadata": {},
   "outputs": [],
   "source": [
    "distortions = []\n",
    "for nc in range(1,10):\n",
    "    km = KMeans(n_clusters=nc,random_state=444).fit(vals)\n",
    "    km.fit(vals)\n",
    "    distortions.append(sum(np.min(cdist(vals, km.cluster_centers_, 'euclidean'), axis=1)) / vals.shape[0])"
   ]
  },
  {
   "cell_type": "code",
   "execution_count": 194,
   "metadata": {},
   "outputs": [
    {
     "data": {
      "image/png": "[encoded data removed]",
      "text/plain": [
       "<matplotlib.figure.Figure at 0x7f52cdf19898>"
      ]
     },
     "metadata": {
      "needs_background": "light"
     },
     "output_type": "display_data"
    },
    {
     "data": {
      "text/plain": [
       "<matplotlib.figure.Figure at 0x7f52cddeaf28>"
      ]
     },
     "metadata": {},
     "output_type": "display_data"
    }
   ],
   "source": [
    "plt.plot(range(1,10), distortions, 'bx-')\n",
    "plt.xlabel('Number of cluster')\n",
    "plt.ylabel('Distortion')\n",
    "plt.title('The Elbow Method showing the optimal nc')\n",
    "plt.show()\n",
    "plt.savefig('elbow.png')"
   ]
  },
  {
   "cell_type": "markdown",
   "metadata": {},
   "source": [
    "Figure 2: Elbow method to find the best cluster number. Here we choose 3."
   ]
  },
  {
   "cell_type": "code",
   "execution_count": 158,
   "metadata": {},
   "outputs": [],
   "source": [
    "nc=3\n",
    "km = KMeans(n_clusters=nc, random_state=444).fit(vals)"
   ]
  },
  {
   "cell_type": "code",
   "execution_count": 159,
   "metadata": {},
   "outputs": [],
   "source": [
    "kmlabel=pd.DataFrame(km.labels_)"
   ]
  },
  {
   "cell_type": "code",
   "execution_count": 175,
   "metadata": {},
   "outputs": [],
   "source": [
    "plott=gsfacility.join(kmlabel, how='outer')"
   ]
  },
  {
   "cell_type": "code",
   "execution_count": 192,
   "metadata": {},
   "outputs": [
    {
     "data": {
      "image/png": "[encoded data removed]",
      "text/plain": [
       "<matplotlib.figure.Figure at 0x7f52cdd8b898>"
      ]
     },
     "metadata": {
      "needs_background": "light"
     },
     "output_type": "display_data"
    }
   ],
   "source": [
    "choroplethNYC(plott,column=0,edgecolor='black',cmap=\"Spectral\")\n",
    "pylab.savefig('cluster.png')"
   ]
  },
  {
   "cell_type": "markdown",
   "metadata": {},
   "source": [
    "Figure 3: Chorepleth of cluter analysis in NYC of green space."
   ]
  }
 ],
 "metadata": {
  "kernelspec": {
   "display_name": "ADS",
   "language": "python",
   "name": "ads"
  },
  "language_info": {
   "codemirror_mode": {
    "name": "ipython",
    "version": 3
   },
   "file_extension": ".py",
   "mimetype": "text/x-python",
   "name": "python",
   "nbconvert_exporter": "python",
   "pygments_lexer": "ipython3",
   "version": "3.5.0"
  }
 },
 "nbformat": 4,
 "nbformat_minor": 2
}
