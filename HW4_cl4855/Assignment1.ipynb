{
 "cells": [
  {
   "cell_type": "markdown",
   "metadata": {},
   "source": [
    " Written by Federica B. Bianco @fedhere\n",
    " NYU CUSP PUI\n",
    "\n",
    " Assignment 1 Homework 4\n",
    "\n",
    " This is a skeleton & instruction notebook\n",
    "\n",
    "-  GENERATE  100 samples of different sizes N (N>10 & N<2000) from each of 5 different distributions (500 samples in total), \n",
    " _all with the same population mean_. Include a _Normal_, a _Poisson_, a _Binomial_, a _Chi-Squared_ distribution, and 1 more of your choice.                                       \n",
    "-  For each sample plot the sample mean (dependent var.) against the sample size N (independent var.) (if you want you can do it with the sample standard deviation as well). \n",
    "-  Describe the behavior you see in the plots in terms of the law of large numbers.\n",
    "-  PLOT the distributions of all sample means (together for all distributions). _Mandatory_: as a histogram. _Optional_: in any other way you think is convincing\n",
    " Extra Credit: FIT a gaussian to the distribution of means            "
   ]
  },
  {
   "cell_type": "code",
   "execution_count": 1,
   "metadata": {},
   "outputs": [
    {
     "name": "stdout",
     "output_type": "stream",
     "text": [
      "Populating the interactive namespace from numpy and matplotlib\n"
     ]
    },
    {
     "name": "stderr",
     "output_type": "stream",
     "text": [
      "/usr/local/Anaconda3-5.0.0-Linux-x86_64/envs/PUI2016_Python3/lib/python3.5/site-packages/IPython/html.py:14: ShimWarning: The `IPython.html` package has been deprecated. You should import from `notebook` instead. `IPython.html.widgets` has moved to `ipywidgets`.\n",
      "  \"`IPython.html.widgets` has moved to `ipywidgets`.\", ShimWarning)\n"
     ]
    }
   ],
   "source": [
    "from __future__ import print_function\n",
    "__author__= 'fbb'\n",
    "\n",
    "import pylab as pl\n",
    "# this package sets up pretty plots\n",
    "import seaborn\n",
    "from scipy.optimize import curve_fit, minimize\n",
    "    \n",
    "%pylab inline"
   ]
  },
  {
   "cell_type": "markdown",
   "metadata": {},
   "source": [
    "## choose which distributions to use "
   ]
  },
  {
   "cell_type": "code",
   "execution_count": 2,
   "metadata": {},
   "outputs": [],
   "source": [
    "#distributions = ['pois', 'gaus', 'chisq', 'cauchy', 'lnorm', 'binomial']\n",
    "distributions = ['chisq']\n"
   ]
  },
  {
   "cell_type": "markdown",
   "metadata": {
    "collapsed": true
   },
   "source": [
    "## and which mean to give it"
   ]
  },
  {
   "cell_type": "code",
   "execution_count": 3,
   "metadata": {},
   "outputs": [],
   "source": [
    "mymean = 100"
   ]
  },
  {
   "cell_type": "markdown",
   "metadata": {},
   "source": [
    "# Let's see what this distribution looks like, what is the PDF, and how are the moments defined. Wikipedia is great for this! \n",
    "\n",
    "![1](chisq1.png)\n",
    "\n",
    "![2](chisq2.png)"
   ]
  },
  {
   "cell_type": "markdown",
   "metadata": {},
   "source": [
    "# Then lets look at the numpy random sampling package to see how I create the distribution\n",
    "http://docs.scipy.org/doc/numpy/reference/routines.random.html\n",
    "http://docs.scipy.org/doc/numpy/reference/generated/numpy.random.chisquare.html#numpy.random.chisquare\n",
    "\n"
   ]
  },
  {
   "cell_type": "code",
   "execution_count": 4,
   "metadata": {},
   "outputs": [],
   "source": [
    "# the chi sq distribution takes the number of degrees of freedom, which luckily is the same as the mean!\n",
    "df = mymean"
   ]
  },
  {
   "cell_type": "markdown",
   "metadata": {},
   "source": [
    "## I am making a dictionary to host the distributions.\n",
    "\n",
    "that is only one possible option. with a dictionary I can easily inspect the distribution I want by its name: it is a very human friendly data storage. In this example I am only using a single distribution, so for me it is overkill, but if I were doing the whole exercise with 5 or 6 distributions it would be useful!\n",
    "\n",
    "Lets start by looking at a single chi sq distribution"
   ]
  },
  {
   "cell_type": "code",
   "execution_count": 5,
   "metadata": {},
   "outputs": [
    {
     "data": {
      "text/plain": [
       "Text(0.5,0,'x')"
      ]
     },
     "execution_count": 5,
     "metadata": {},
     "output_type": "execute_result"
    },
    {
     "name": "stderr",
     "output_type": "stream",
     "text": [
      "/usr/local/Anaconda3-5.0.0-Linux-x86_64/envs/PUI2016_Python3/lib/python3.5/site-packages/matplotlib/font_manager.py:1316: UserWarning: findfont: Font family ['sans-serif'] not found. Falling back to DejaVu Sans\n",
      "  (prop.get_family(), self.defaultFamily[fontext]))\n"
     ]
    },
    {
     "data": {
      "image/png": "[encoded data removed]",
      "text/plain": [
       "<matplotlib.figure.Figure at 0x7fe7573f9860>"
      ]
     },
     "metadata": {},
     "output_type": "display_data"
    }
   ],
   "source": [
    "# Note: I am adding imports here, to show the workflow: \n",
    "# at this point I realize what packages I need and I import them. \n",
    "# but this is a PEP8 violation. \n",
    "# It is a good habit to put the includes at the top \n",
    "# so the code fails right away if the packages are missing. \n",
    "# Otherwise a user may have a piece of code running for a long time, \n",
    "# and then fail when the package cannot be imported... \n",
    "# (unless they are only imported under conditions, e.g. in an if statement)\n",
    "\n",
    "import numpy as np\n",
    "md = {}\n",
    "# md is an empty disctionary\n",
    "md['chisq'] = np.random.chisquare(df, size=100)\n",
    "# md now is a dictionary with one object: an array by the key 'chisq'\n",
    "pl.hist(md['chisq'], bins = 30)\n",
    "pl.ylabel('N')\n",
    "pl.xlabel('x')"
   ]
  },
  {
   "cell_type": "markdown",
   "metadata": {},
   "source": [
    "### Figure 1: Chi sq distribution: df = 100, N=100"
   ]
  },
  {
   "cell_type": "markdown",
   "metadata": {},
   "source": [
    "## let numpy calculate what the mean and stdev of this distribution are"
   ]
  },
  {
   "cell_type": "code",
   "execution_count": 6,
   "metadata": {},
   "outputs": [
    {
     "name": "stdout",
     "output_type": "stream",
     "text": [
      "Chisq mean: 100.57, standard deviation: 15.70\n"
     ]
    }
   ],
   "source": [
    "print (\"Chisq mean: %.2f, standard deviation: %.2f\"%(md['chisq'].mean(), md['chisq'].std()))"
   ]
  },
  {
   "cell_type": "markdown",
   "metadata": {},
   "source": [
    "## Now let's do it for 100 Chisq distributions\n",
    "we want distributions of different sizes (all integers between 10 and 2000)"
   ]
  },
  {
   "cell_type": "code",
   "execution_count": 9,
   "metadata": {},
   "outputs": [
    {
     "name": "stdout",
     "output_type": "stream",
     "text": [
      "[10, 29, 49, 69, 89, 109, 129, 149, 169, 189, 209, 228, 248, 268, 288, 308, 328, 348, 368, 388, 408, 427, 447, 467, 487, 507, 527, 547, 567, 587, 607, 626, 646, 666, 686, 706, 726, 746, 766, 786, 806, 825, 845, 865, 885, 905, 925, 945, 965, 985, 1004, 1024, 1044, 1064, 1084, 1104, 1124, 1144, 1164, 1184, 1204, 1223, 1243, 1263, 1283, 1303, 1323, 1343, 1363, 1383, 1403, 1422, 1442, 1462, 1482, 1502, 1522, 1542, 1562, 1582, 1602, 1621, 1641, 1661, 1681, 1701, 1721, 1741, 1761, 1781, 1800, 1820, 1840, 1860, 1880, 1900, 1920, 1940, 1960, 1980]\n"
     ]
    }
   ],
   "source": [
    "#mysize = (2000 / (np.array(range(1, 101)))).astype(int)\n",
    "# mysize = 1000 / (np.array(range(1, 100) + [10]))\n",
    "#mysize = (np.random.rand(100) * 1000).astype(int)\n",
    "mysize = []\n",
    "for i in range(100):\n",
    "    mysize.append(int(i*19.9)+10)\n",
    "print (mysize)"
   ]
  },
  {
   "cell_type": "code",
   "execution_count": 10,
   "metadata": {},
   "outputs": [
    {
     "name": "stderr",
     "output_type": "stream",
     "text": [
      "/usr/local/Anaconda3-5.0.0-Linux-x86_64/envs/PUI2016_Python3/lib/python3.5/site-packages/matplotlib/font_manager.py:1316: UserWarning: findfont: Font family ['sans-serif'] not found. Falling back to DejaVu Sans\n",
      "  (prop.get_family(), self.defaultFamily[fontext]))\n"
     ]
    },
    {
     "data": {
      "image/png": "[encoded data removed]",
      "text/plain": [
       "<matplotlib.figure.Figure at 0x7fe756763ba8>"
      ]
     },
     "metadata": {},
     "output_type": "display_data"
    }
   ],
   "source": [
    "# I am gonna overwrite the disctionary entry created into a nested dictionary \n",
    "# the outside dictionary hosts the distributions as dictionary, \n",
    "# and each distribution dictionary contains the 100 distribution (arrays of diferent sizes)\n",
    "\n",
    "md['chisq'] = {} \n",
    "\n",
    "#and do it in a for loop. not pythonic, but easily readable\n",
    "\n",
    "for n in mysize:\n",
    "    md['chisq'][n] = np.random.chisquare(df, size = n)\n",
    "    \n",
    "# save the means for plotting later    \n",
    "\n",
    "md['chisq']['means'] = {}\n",
    "axchisq_mu_n = pl.figure(figsize=(10,6)).add_subplot(111)\n",
    "\n",
    "for nn in md['chisq']:\n",
    "    if not type(nn) == str:\n",
    "        md['chisq']['means'][nn] = md['chisq'][nn].mean()\n",
    "        #and plot it\n",
    "        axchisq_mu_n.plot(nn, md['chisq']['means'][nn], 'o')\n",
    "        axchisq_mu_n.set_xlabel('sample size', fontsize=18)\n",
    "        axchisq_mu_n.set_ylabel('sample mean', fontsize=18)\n",
    "        axchisq_mu_n.set_title('Chi squared', fontsize=18)\n",
    "        axchisq_mu_n.plot([min(mysize), max(mysize)], [df, df], 'k')"
   ]
  },
  {
   "cell_type": "markdown",
   "metadata": {},
   "source": [
    "### Figure 2: When the sample size is small the sample mean may deviate from the expectation mean. But when the sample size getting larger the sample mean getting colse to the expectation mean which in line of law of large numbers. According to the law, the average of the results obtained from a large number of trials should be close to the expected value, and will tend to become closer as more trials are performed."
   ]
  },
  {
   "cell_type": "markdown",
   "metadata": {},
   "source": [
    "# now the histogram of the mean of all samples: \n",
    "## this requires some data wrangling, since i put the data in a dictionary which is a user friendly data structure, but perhaps not the most machine friendly one\n",
    "\n",
    "a coder friendly, though not terribly pythonic way to do it is to append each mean in a list in a for loop, and then hist that. be careful: if your data size gets large this becomes a very bad idea!!"
   ]
  },
  {
   "cell_type": "code",
   "execution_count": 11,
   "metadata": {},
   "outputs": [
    {
     "data": {
      "text/plain": [
       "Text(0,0.5,'N')"
      ]
     },
     "execution_count": 11,
     "metadata": {},
     "output_type": "execute_result"
    },
    {
     "name": "stderr",
     "output_type": "stream",
     "text": [
      "/usr/local/Anaconda3-5.0.0-Linux-x86_64/envs/PUI2016_Python3/lib/python3.5/site-packages/matplotlib/font_manager.py:1316: UserWarning: findfont: Font family ['sans-serif'] not found. Falling back to DejaVu Sans\n",
      "  (prop.get_family(), self.defaultFamily[fontext]))\n"
     ]
    },
    {
     "data": {
      "image/png": "[encoded data removed]",
      "text/plain": [
       "<matplotlib.figure.Figure at 0x7fe758394898>"
      ]
     },
     "metadata": {},
     "output_type": "display_data"
    }
   ],
   "source": [
    "allmeans = list(md['chisq']['means'].values())\n",
    "\n",
    "pl.figure(figsize=(10, 10))\n",
    "pl.hist(allmeans,bins=30)\n",
    "pl.xlabel('sample mean', fontsize = 18)\n",
    "pl.ylabel('N', fontsize = 18)"
   ]
  },
  {
   "cell_type": "markdown",
   "metadata": {},
   "source": [
    "## Figure 3: The histogram has the appearance of bell curve. Due to the small size of sample the shape is not perfectly fit the bell curve. But we can still say it's in line with Central Limit Theorem."
   ]
  },
  {
   "cell_type": "markdown",
   "metadata": {
    "collapsed": true
   },
   "source": [
    "# Do it for the Normal distribution\n"
   ]
  },
  {
   "cell_type": "code",
   "execution_count": 12,
   "metadata": {},
   "outputs": [],
   "source": [
    "distributions1 = ['gaus']"
   ]
  },
  {
   "cell_type": "code",
   "execution_count": 29,
   "metadata": {},
   "outputs": [
    {
     "data": {
      "text/plain": [
       "Text(0.5,0,'x')"
      ]
     },
     "execution_count": 29,
     "metadata": {},
     "output_type": "execute_result"
    },
    {
     "name": "stderr",
     "output_type": "stream",
     "text": [
      "/usr/local/Anaconda3-5.0.0-Linux-x86_64/envs/PUI2016_Python3/lib/python3.5/site-packages/matplotlib/font_manager.py:1316: UserWarning: findfont: Font family ['sans-serif'] not found. Falling back to DejaVu Sans\n",
      "  (prop.get_family(), self.defaultFamily[fontext]))\n"
     ]
    },
    {
     "data": {
      "image/png": "[encoded data removed]",
      "text/plain": [
       "<matplotlib.figure.Figure at 0x7fe7517d36d8>"
      ]
     },
     "metadata": {},
     "output_type": "display_data"
    }
   ],
   "source": [
    "import numpy as np\n",
    "md1 = {}\n",
    "# md1 is an empty disctionary\n",
    "md1['gaus'] = np.random.normal(loc=100, scale=1.0,size=100)\n",
    "# md1 now is a dictionary with one object: an array by the key 'gaus'\n",
    "pl.hist(md1['gaus'], bins = 30)\n",
    "pl.ylabel('N')\n",
    "pl.xlabel('x')"
   ]
  },
  {
   "cell_type": "markdown",
   "metadata": {},
   "source": [
    "### Figure 4: Gauss distribution: μ = 100, N=100"
   ]
  },
  {
   "cell_type": "code",
   "execution_count": 14,
   "metadata": {},
   "outputs": [
    {
     "name": "stdout",
     "output_type": "stream",
     "text": [
      "Gaus mean: 100.16, standard deviation: 0.91\n"
     ]
    }
   ],
   "source": [
    "print (\"Gaus mean: %.2f, standard deviation: %.2f\"%(md1['gaus'].mean(), md1['gaus'].std()))"
   ]
  },
  {
   "cell_type": "code",
   "execution_count": 15,
   "metadata": {},
   "outputs": [
    {
     "name": "stderr",
     "output_type": "stream",
     "text": [
      "/usr/local/Anaconda3-5.0.0-Linux-x86_64/envs/PUI2016_Python3/lib/python3.5/site-packages/matplotlib/font_manager.py:1316: UserWarning: findfont: Font family ['sans-serif'] not found. Falling back to DejaVu Sans\n",
      "  (prop.get_family(), self.defaultFamily[fontext]))\n"
     ]
    },
    {
     "data": {
      "image/png": "[encoded data removed]",
      "text/plain": [
       "<matplotlib.figure.Figure at 0x7fe7573f6fd0>"
      ]
     },
     "metadata": {},
     "output_type": "display_data"
    }
   ],
   "source": [
    "md1['gaus'] = {} \n",
    "\n",
    "#and do it in a for loop. not pythonic, but easily readable\n",
    "\n",
    "for n in mysize:\n",
    "    md1['gaus'][n] = np.random.normal(loc=100, scale=1.0, size = n)\n",
    "    \n",
    "# save the means for plotting later    \n",
    "\n",
    "md1['gaus']['means'] = {}\n",
    "axgaus_mu_n = pl.figure(figsize=(10,6)).add_subplot(111)\n",
    "\n",
    "for nn in md1['gaus']:\n",
    "    if not type(nn) == str:\n",
    "        md1['gaus']['means'][nn] = md1['gaus'][nn].mean()\n",
    "        #and plot it\n",
    "        axgaus_mu_n.plot(nn, md1['gaus']['means'][nn], 'o')\n",
    "        axgaus_mu_n.set_xlabel('sample size', fontsize=18)\n",
    "        axgaus_mu_n.set_ylabel('sample mean', fontsize=18)\n",
    "        axgaus_mu_n.set_title('Gaus squared', fontsize=18)\n",
    "        axgaus_mu_n.plot([min(mysize), max(mysize)], [df,df], 'k')"
   ]
  },
  {
   "cell_type": "markdown",
   "metadata": {},
   "source": [
    "### Figure 5: When the sample size is small the sample mean may deviate from the expectation mean. But when the sample size getting larger the sample mean getting colse to the expectation mean which in line of law of large numbers. According to the law, the average of the results obtained from a large number of trials should be close to the expected value, and will tend to become closer as more trials are performed."
   ]
  },
  {
   "cell_type": "code",
   "execution_count": 16,
   "metadata": {},
   "outputs": [
    {
     "data": {
      "text/plain": [
       "Text(0,0.5,'N')"
      ]
     },
     "execution_count": 16,
     "metadata": {},
     "output_type": "execute_result"
    },
    {
     "name": "stderr",
     "output_type": "stream",
     "text": [
      "/usr/local/Anaconda3-5.0.0-Linux-x86_64/envs/PUI2016_Python3/lib/python3.5/site-packages/matplotlib/font_manager.py:1316: UserWarning: findfont: Font family ['sans-serif'] not found. Falling back to DejaVu Sans\n",
      "  (prop.get_family(), self.defaultFamily[fontext]))\n"
     ]
    },
    {
     "data": {
      "image/png": "[encoded data removed]",
      "text/plain": [
       "<matplotlib.figure.Figure at 0x7fe7568429b0>"
      ]
     },
     "metadata": {},
     "output_type": "display_data"
    }
   ],
   "source": [
    "allmeans1 = list(md1['gaus']['means'].values())\n",
    "\n",
    "pl.figure(figsize=(10, 10))\n",
    "pl.hist(allmeans1,bins=30)\n",
    "pl.xlabel('sample mean', fontsize = 18)\n",
    "pl.ylabel('N', fontsize = 18)"
   ]
  },
  {
   "cell_type": "markdown",
   "metadata": {},
   "source": [
    "## Figure 6: The histogram has the appearance of bell curve. Due to the small size of sample the shape is not perfectly fit the bell curve. But we can still say it's in line with Central Limit Theorem."
   ]
  },
  {
   "cell_type": "markdown",
   "metadata": {
    "collapsed": true
   },
   "source": [
    "# Do it for the Poisson distribution"
   ]
  },
  {
   "cell_type": "code",
   "execution_count": 17,
   "metadata": {},
   "outputs": [],
   "source": [
    "distributions2 = ['pois']"
   ]
  },
  {
   "cell_type": "code",
   "execution_count": 18,
   "metadata": {},
   "outputs": [
    {
     "data": {
      "text/plain": [
       "Text(0.5,0,'x')"
      ]
     },
     "execution_count": 18,
     "metadata": {},
     "output_type": "execute_result"
    },
    {
     "name": "stderr",
     "output_type": "stream",
     "text": [
      "/usr/local/Anaconda3-5.0.0-Linux-x86_64/envs/PUI2016_Python3/lib/python3.5/site-packages/matplotlib/font_manager.py:1316: UserWarning: findfont: Font family ['sans-serif'] not found. Falling back to DejaVu Sans\n",
      "  (prop.get_family(), self.defaultFamily[fontext]))\n"
     ]
    },
    {
     "data": {
      "image/png": "[encoded data removed]",
      "text/plain": [
       "<matplotlib.figure.Figure at 0x7fe7568056a0>"
      ]
     },
     "metadata": {},
     "output_type": "display_data"
    }
   ],
   "source": [
    "import numpy as np\n",
    "md2 = {}\n",
    "# md2 is an empty disctionary\n",
    "md2['pois'] = np.random.poisson(lam=100,size=100)\n",
    "# md2 now is a dictionary with one object: an array by the key 'pois'\n",
    "pl.hist(md2['pois'], bins = 30)\n",
    "pl.ylabel('N')\n",
    "pl.xlabel('x')"
   ]
  },
  {
   "cell_type": "markdown",
   "metadata": {},
   "source": [
    "### Figure 7: Poisson distribution: λ = 100, N=100"
   ]
  },
  {
   "cell_type": "code",
   "execution_count": 19,
   "metadata": {},
   "outputs": [
    {
     "name": "stdout",
     "output_type": "stream",
     "text": [
      "Pois mean: 100.20, standard deviation: 10.10\n"
     ]
    }
   ],
   "source": [
    "print (\"Pois mean: %.2f, standard deviation: %.2f\"%(md2['pois'].mean(), md2['pois'].std()))"
   ]
  },
  {
   "cell_type": "code",
   "execution_count": 20,
   "metadata": {},
   "outputs": [
    {
     "name": "stderr",
     "output_type": "stream",
     "text": [
      "/usr/local/Anaconda3-5.0.0-Linux-x86_64/envs/PUI2016_Python3/lib/python3.5/site-packages/matplotlib/font_manager.py:1316: UserWarning: findfont: Font family ['sans-serif'] not found. Falling back to DejaVu Sans\n",
      "  (prop.get_family(), self.defaultFamily[fontext]))\n"
     ]
    },
    {
     "data": {
      "image/png": "[encoded data removed]",
      "text/plain": [
       "<matplotlib.figure.Figure at 0x7fe7519ee080>"
      ]
     },
     "metadata": {},
     "output_type": "display_data"
    }
   ],
   "source": [
    "md2['pois'] = {} \n",
    "\n",
    "#and do it in a for loop. not pythonic, but easily readable\n",
    "\n",
    "for n in mysize:\n",
    "    md2['pois'][n] = np.random.poisson(lam=100, size = n)\n",
    "    \n",
    "# save the means for plotting later    \n",
    "\n",
    "md2['pois']['means'] = {}\n",
    "axpois_mu_n = pl.figure(figsize=(10,6)).add_subplot(111)\n",
    "\n",
    "for nn in md2['pois']:\n",
    "    if not type(nn) == str:\n",
    "        md2['pois']['means'][nn] = md2['pois'][nn].mean()\n",
    "        #and plot it\n",
    "        axpois_mu_n.plot(nn, md2['pois']['means'][nn], 'o')\n",
    "        axpois_mu_n.set_xlabel('sample size', fontsize=18)\n",
    "        axpois_mu_n.set_ylabel('sample mean', fontsize=18)\n",
    "        axpois_mu_n.set_title('Pois squared', fontsize=18)\n",
    "        axpois_mu_n.plot([min(mysize), max(mysize)], [df, df], 'k')"
   ]
  },
  {
   "cell_type": "markdown",
   "metadata": {},
   "source": [
    "### Figure 8: When the sample size is small the sample mean may deviate from the expectation mean. But when the sample size getting larger the sample mean getting colse to the expectation mean which in line of law of large numbers. According to the law, the average of the results obtained from a large number of trials should be close to the expected value, and will tend to become closer as more trials are performed."
   ]
  },
  {
   "cell_type": "code",
   "execution_count": 21,
   "metadata": {},
   "outputs": [
    {
     "data": {
      "text/plain": [
       "Text(0,0.5,'N')"
      ]
     },
     "execution_count": 21,
     "metadata": {},
     "output_type": "execute_result"
    },
    {
     "name": "stderr",
     "output_type": "stream",
     "text": [
      "/usr/local/Anaconda3-5.0.0-Linux-x86_64/envs/PUI2016_Python3/lib/python3.5/site-packages/matplotlib/font_manager.py:1316: UserWarning: findfont: Font family ['sans-serif'] not found. Falling back to DejaVu Sans\n",
      "  (prop.get_family(), self.defaultFamily[fontext]))\n"
     ]
    },
    {
     "data": {
      "image/png": "[encoded data removed]",
      "text/plain": [
       "<matplotlib.figure.Figure at 0x7fe751a8cf98>"
      ]
     },
     "metadata": {},
     "output_type": "display_data"
    }
   ],
   "source": [
    "allmeans2 = list(md2['pois']['means'].values())\n",
    "\n",
    "pl.figure(figsize=(10, 10))\n",
    "pl.hist(allmeans2,bins=30)\n",
    "pl.xlabel('sample mean', fontsize = 18)\n",
    "pl.ylabel('N', fontsize = 18)"
   ]
  },
  {
   "cell_type": "markdown",
   "metadata": {},
   "source": [
    "## Figure 9: The histogram has the appearance of bell curve. Due to the small size of sample the shape is not perfectly fit the bell curve. But we can still say it's in line with Central Limit Theorem."
   ]
  },
  {
   "cell_type": "markdown",
   "metadata": {},
   "source": [
    "# Do it for the Binomial distribution"
   ]
  },
  {
   "cell_type": "code",
   "execution_count": 22,
   "metadata": {},
   "outputs": [],
   "source": [
    "distributions3 = ['binomial']"
   ]
  },
  {
   "cell_type": "code",
   "execution_count": 23,
   "metadata": {},
   "outputs": [
    {
     "data": {
      "text/plain": [
       "Text(0.5,0,'x')"
      ]
     },
     "execution_count": 23,
     "metadata": {},
     "output_type": "execute_result"
    },
    {
     "name": "stderr",
     "output_type": "stream",
     "text": [
      "/usr/local/Anaconda3-5.0.0-Linux-x86_64/envs/PUI2016_Python3/lib/python3.5/site-packages/matplotlib/font_manager.py:1316: UserWarning: findfont: Font family ['sans-serif'] not found. Falling back to DejaVu Sans\n",
      "  (prop.get_family(), self.defaultFamily[fontext]))\n"
     ]
    },
    {
     "data": {
      "image/png": "[encoded data removed]",
      "text/plain": [
       "<matplotlib.figure.Figure at 0x7fe751a4e320>"
      ]
     },
     "metadata": {},
     "output_type": "display_data"
    }
   ],
   "source": [
    "import numpy as np\n",
    "md3 = {}\n",
    "# md3 is an empty disctionary\n",
    "md3['binomial'] = np.random.binomial(n=200,p=0.5,size=100)\n",
    "# md2 now is a dictionary with one object: an array by the key 'pois'\n",
    "pl.hist(md3['binomial'], bins = 30)\n",
    "pl.ylabel('N')\n",
    "pl.xlabel('x')"
   ]
  },
  {
   "cell_type": "markdown",
   "metadata": {},
   "source": [
    "### Figure 10: Binominal distribution: n = 200, p=0.5,N=100"
   ]
  },
  {
   "cell_type": "code",
   "execution_count": 24,
   "metadata": {},
   "outputs": [
    {
     "name": "stdout",
     "output_type": "stream",
     "text": [
      "Pois mean: 100.53, standard deviation: 7.13\n"
     ]
    }
   ],
   "source": [
    "print (\"Pois mean: %.2f, standard deviation: %.2f\"%(md3['binomial'].mean(), md3['binomial'].std()))"
   ]
  },
  {
   "cell_type": "code",
   "execution_count": 25,
   "metadata": {},
   "outputs": [
    {
     "name": "stderr",
     "output_type": "stream",
     "text": [
      "/usr/local/Anaconda3-5.0.0-Linux-x86_64/envs/PUI2016_Python3/lib/python3.5/site-packages/matplotlib/font_manager.py:1316: UserWarning: findfont: Font family ['sans-serif'] not found. Falling back to DejaVu Sans\n",
      "  (prop.get_family(), self.defaultFamily[fontext]))\n"
     ]
    },
    {
     "data": {
      "image/png": "[encoded data removed]",
      "text/plain": [
       "<matplotlib.figure.Figure at 0x7fe7517d65c0>"
      ]
     },
     "metadata": {},
     "output_type": "display_data"
    }
   ],
   "source": [
    "md3['binomial'] = {} \n",
    "\n",
    "#and do it in a for loop. not pythonic, but easily readable\n",
    "\n",
    "for n in mysize:\n",
    "    md3['binomial'][n] = np.random.binomial(n=200,p=0.5,size=100)\n",
    "    \n",
    "# save the means for plotting later    \n",
    "\n",
    "md3['binomial']['means'] = {}\n",
    "axpois_mu_n = pl.figure(figsize=(10,6)).add_subplot(111)\n",
    "\n",
    "for nn in md3['binomial']:\n",
    "    if not type(nn) == str:\n",
    "        md3['binomial']['means'][nn] = md3['binomial'][nn].mean()\n",
    "        #and plot it\n",
    "        axpois_mu_n.plot(nn, md3['binomial']['means'][nn], 'o')\n",
    "        axpois_mu_n.set_xlabel('sample size', fontsize=18)\n",
    "        axpois_mu_n.set_ylabel('sample mean', fontsize=18)\n",
    "        axpois_mu_n.set_title('Binomial squared', fontsize=18)\n",
    "        axpois_mu_n.plot([min(mysize), max(mysize)], [df, df], 'k')"
   ]
  },
  {
   "cell_type": "markdown",
   "metadata": {},
   "source": [
    "### Figure 11: When the sample size is small the sample mean may deviate from the expectation mean. But when the sample size getting larger the sample mean getting colse to the expectation mean which in line of law of large numbers. According to the law, the average of the results obtained from a large number of trials should be close to the expected value, and will tend to become closer as more trials are performed."
   ]
  },
  {
   "cell_type": "code",
   "execution_count": 26,
   "metadata": {},
   "outputs": [
    {
     "data": {
      "text/plain": [
       "Text(0,0.5,'N')"
      ]
     },
     "execution_count": 26,
     "metadata": {},
     "output_type": "execute_result"
    },
    {
     "name": "stderr",
     "output_type": "stream",
     "text": [
      "/usr/local/Anaconda3-5.0.0-Linux-x86_64/envs/PUI2016_Python3/lib/python3.5/site-packages/matplotlib/font_manager.py:1316: UserWarning: findfont: Font family ['sans-serif'] not found. Falling back to DejaVu Sans\n",
      "  (prop.get_family(), self.defaultFamily[fontext]))\n"
     ]
    },
    {
     "data": {
      "image/png": "[encoded data removed]",
      "text/plain": [
       "<matplotlib.figure.Figure at 0x7fe756862358>"
      ]
     },
     "metadata": {},
     "output_type": "display_data"
    }
   ],
   "source": [
    "allmeans3 = list(md3['binomial']['means'].values())\n",
    "\n",
    "pl.figure(figsize=(10, 10))\n",
    "pl.hist(allmeans3,bins=30)\n",
    "pl.xlabel('sample mean', fontsize = 18)\n",
    "pl.ylabel('N', fontsize = 18)"
   ]
  },
  {
   "cell_type": "markdown",
   "metadata": {},
   "source": [
    "## Figure 12: The histogram has the appearance of bell curve. Due to the small size of sample the shape is not perfectly fit the bell curve. But we can still say it's in line with Central Limit Theorem."
   ]
  },
  {
   "cell_type": "markdown",
   "metadata": {},
   "source": [
    "# Do it for another distribution"
   ]
  },
  {
   "cell_type": "code",
   "execution_count": null,
   "metadata": {},
   "outputs": [],
   "source": [
    "distributions3 = ['lognormal']"
   ]
  },
  {
   "cell_type": "code",
   "execution_count": null,
   "metadata": {},
   "outputs": [],
   "source": [
    "import numpy as np\n",
    "md4 = {}\n",
    "md4['lognormal'] = np.random.standard_cauchy(size=100)\n",
    "pl.hist(md4['lognormal'], bins = 30)\n",
    "pl.ylabel('N')\n",
    "pl.xlabel('x')"
   ]
  },
  {
   "cell_type": "code",
   "execution_count": null,
   "metadata": {},
   "outputs": [],
   "source": []
  }
 ],
 "metadata": {
  "anaconda-cloud": {},
  "kernelspec": {
   "display_name": "PUI2016_Python3",
   "language": "python",
   "name": "pui2016_python3"
  },
  "language_info": {
   "codemirror_mode": {
    "name": "ipython",
    "version": 3
   },
   "file_extension": ".py",
   "mimetype": "text/x-python",
   "name": "python",
   "nbconvert_exporter": "python",
   "pygments_lexer": "ipython3",
   "version": "3.5.4"
  }
 },
 "nbformat": 4,
 "nbformat_minor": 1
}
