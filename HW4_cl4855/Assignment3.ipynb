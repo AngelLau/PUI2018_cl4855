{
 "cells": [
  {
   "cell_type": "markdown",
   "metadata": {},
   "source": [
    "# Null and Alternative Hypothesis\n",
    "# _$H_0$_ :$Z_{\\mathrm{new}} <= Z_{\\mathrm{priginal}} $\n",
    "# _$H_1$_ : $Z_{\\mathrm{new}} > Z_{\\mathrm{priginal}}$\n",
    "## I will use a significance level  $\\alpha=0.05$"
   ]
  },
  {
   "cell_type": "code",
   "execution_count": 42,
   "metadata": {},
   "outputs": [],
   "source": [
    "from __future__  import print_function, division\n",
    "import pylab as pl\n",
    "import pandas as pd\n",
    "import numpy as np\n",
    "import matplotlib as plt\n",
    "import os\n",
    "import sys"
   ]
  },
  {
   "cell_type": "code",
   "execution_count": 27,
   "metadata": {},
   "outputs": [],
   "source": [
    "url= \"https://raw.githubusercontent.com/fedhere/PUI2018_fb55/master/Lab4_fb55/times.txt\""
   ]
  },
  {
   "cell_type": "code",
   "execution_count": 38,
   "metadata": {},
   "outputs": [],
   "source": [
    "tbus=pd.read_csv(url, header=None)\n",
    "tbus.columns = tbus.columns + 1 \n",
    "tbus.columns=['time']"
   ]
  },
  {
   "cell_type": "code",
   "execution_count": 39,
   "metadata": {},
   "outputs": [
    {
     "data": {
      "text/html": [
       "<div>\n",
       "<table border=\"1\" class=\"dataframe\">\n",
       "  <thead>\n",
       "    <tr style=\"text-align: right;\">\n",
       "      <th></th>\n",
       "      <th>time</th>\n",
       "    </tr>\n",
       "  </thead>\n",
       "  <tbody>\n",
       "    <tr>\n",
       "      <th>0</th>\n",
       "      <td>31.622239</td>\n",
       "    </tr>\n",
       "    <tr>\n",
       "      <th>1</th>\n",
       "      <td>32.821376</td>\n",
       "    </tr>\n",
       "    <tr>\n",
       "      <th>2</th>\n",
       "      <td>30.229101</td>\n",
       "    </tr>\n",
       "    <tr>\n",
       "      <th>3</th>\n",
       "      <td>31.413766</td>\n",
       "    </tr>\n",
       "    <tr>\n",
       "      <th>4</th>\n",
       "      <td>39.010550</td>\n",
       "    </tr>\n",
       "  </tbody>\n",
       "</table>\n",
       "</div>"
      ],
      "text/plain": [
       "        time\n",
       "0  31.622239\n",
       "1  32.821376\n",
       "2  30.229101\n",
       "3  31.413766\n",
       "4  39.010550"
      ]
     },
     "execution_count": 39,
     "metadata": {},
     "output_type": "execute_result"
    }
   ],
   "source": [
    "tbus.head()"
   ]
  },
  {
   "cell_type": "code",
   "execution_count": 44,
   "metadata": {},
   "outputs": [],
   "source": [
    "Popmean=36\n",
    "sigma=6\n",
    "Sammean=tbus['time'].mean()\n",
    "sqrtn=(len(tbus))**-2"
   ]
  },
  {
   "cell_type": "code",
   "execution_count": 49,
   "metadata": {},
   "outputs": [
    {
     "name": "stdout",
     "output_type": "stream",
     "text": [
      "Z test: 2.55639718617e-05\n"
     ]
    }
   ],
   "source": [
    "Z=(Popmean-Sammean)/(sigma/sqrtn)\n",
    "print('Z test:', Z)"
   ]
  },
  {
   "cell_type": "markdown",
   "metadata": {},
   "source": [
    "We can see that the result of Z=2.556. The rejection region is {$u>=u_{\\mathrm{1-α}}$}. Here $u=Z=2.556$ and $u_{\\mathrm{1-α}}=u_{\\mathrm{0.95 }}=1.645$. Since $u=2.556>1.645=u_{\\mathrm{0.95}}$, we reject the null hypothesis. So the implementation of the alternative bus route for bus line X8 improves circulation."
   ]
  }
 ],
 "metadata": {
  "kernelspec": {
   "display_name": "PUI2016_Python3",
   "language": "python",
   "name": "pui2016_python3"
  },
  "language_info": {
   "codemirror_mode": {
    "name": "ipython",
    "version": 3
   },
   "file_extension": ".py",
   "mimetype": "text/x-python",
   "name": "python",
   "nbconvert_exporter": "python",
   "pygments_lexer": "ipython3",
   "version": "3.5.4"
  }
 },
 "nbformat": 4,
 "nbformat_minor": 2
}
